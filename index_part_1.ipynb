{
 "cells": [
  {
   "cell_type": "markdown",
   "metadata": {},
   "source": [
    "# Spotify Data Scraping and Deep Exploration Project\n",
    "\n",
    "*Nix Barnett*\n",
    "\n",
    "![Gallery](figures/index_part_1_gallery.png)\n",
    "\n",
    "This project is an in-depth analysis of music from the music streaming service [Spotify](https://www.spotify.com/). In it, I scrape a large number of tracks from [my personal Spotify music library](https://open.spotify.com/user/nxbrnt/playlist/1ypVHzjgXq07PwQR7SBcGU?si=d56V5YZ-Q1y4FhiWzXN0gg) (~6000 tracks) as well as the [Billboard Year-End Hot 100](https://en.wikipedia.org/wiki/Billboard_Hot_100) from every year since 1960 (~6000 tracks) using [Spotify's Web API](https://developer.spotify.com/web-api/). After merging and wrangling this data into a usable dataframe, I thoroughly explore and visualize the tracks' features using extensively customized plotting functions. While my primary goal is to find predictive signals in the features that distinguish between the two datasets, I discover many interesting patterns along the way.\n",
    "\n",
    "In a [follow-up project](index_part_2.ipynb), I use these insights to build a classifier to distinguish between these datasets, and to build a personalized track recommender.\n",
    "\n",
    "## Tools \n",
    "The project is coded in **[Python](https://www.python.org/)** using **[JupyterLab](https://github.com/jupyterlab/jupyterlab)** notebooks. The **[spotipy](https://github.com/plamere/spotipy)** python package is used to interface with the **[Spotify Web API](https://developer.spotify.com/web-api/)**. The data is stored and transformed using primarily **[pandas](https://pandas.pydata.org/)** and **[NumPy](http://www.numpy.org/)**. All custom plots are designed using **[seaborn](https://seaborn.pydata.org/)**, **[Matplotlib](https://matplotlib.org/)**, and **[Bokeh](https://bokeh.pydata.org/en/latest/)**. **[Scikit-learn](http://scikit-learn.org)** is used for some simple regression. All text is written in **[Markdown](https://daringfireball.net/projects/markdown/)**, with equations written in **[LaTeX](https://www.latex-project.org/)**.\n",
    "\n",
    "---\n",
    "\n",
    "## Sections\n",
    "\n",
    "This project is written mostly in a tutorial format, and is broken into four Jupyter notebooks.\n",
    "\n",
    "**Click on the titles or images to load the corresponding notebook. You can also easily navigate between the notebooks from *within* any notebook:**\n",
    "\n",
    "# **[1. Data Scraping and Wrangling](spotify_1_scraping.ipynb)**\n",
    "[![Gallery](figures/scraping_gallery.png)](spotify_1_scraping.ipynb)\n",
    "\n",
    "---\n",
    "\n",
    "# **[2. Basic Feature Exploration](spotify_2_basic_exploration.ipynb)**\n",
    "[![Gallery](figures/basic_exploration_gallery.png)](spotify_2_basic_exploration.ipynb)\n",
    "\n",
    "---\n",
    "\n",
    "# **[3. Audio Feature Exploration](spotify_3_audio_features.ipynb)**\n",
    "[![Gallery](figures/audio_features_gallery.png)](spotify_3_audio_features.ipynb)\n",
    "\n",
    "---\n",
    "\n",
    "# **[4. Social Feature Exploration and Regression](spotify_4_popularity_and_followers.ipynb)**\n",
    "[![Gallery](figures/social_features_gallery.png)](spotify_4_popularity_and_followers.ipynb)\n",
    "\n",
    "---"
   ]
  }
 ],
 "metadata": {
  "kernelspec": {
   "display_name": "Python 3",
   "language": "python",
   "name": "python3"
  },
  "language_info": {
   "codemirror_mode": {
    "name": "ipython",
    "version": 3
   },
   "file_extension": ".py",
   "mimetype": "text/x-python",
   "name": "python",
   "nbconvert_exporter": "python",
   "pygments_lexer": "ipython3",
   "version": "3.6.3"
  }
 },
 "nbformat": 4,
 "nbformat_minor": 2
}
