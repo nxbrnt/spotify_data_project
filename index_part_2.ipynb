{
 "cells": [
  {
   "cell_type": "markdown",
   "metadata": {},
   "source": [
    "# Spotify Machine Learning Project\n",
    "\n",
    "*Nix Barnett*\n",
    "\n",
    "![Gallery](figures/index_part_2_gallery.png)\n",
    "\n",
    "This is a follow-up to my [Spotify Scraping and Deep Exploration Project](index_part_1.ipynb). There, I scraped a large number of tracks from both [my personal Spotify music library](https://open.spotify.com/user/nxbrnt/playlist/1ypVHzjgXq07PwQR7SBcGU?si=d56V5YZ-Q1y4FhiWzXN0gg) (~6000 tracks) and the [Billboard Year-End Hot 100](https://en.wikipedia.org/wiki/Billboard_Hot_100) from every year since 1960 (~6000 tracks) using [Spotify's Web API](https://developer.spotify.com/web-api/). After merging and wrangling this data into a usable dataframe, I thoroughly explored and visualized the tracks' features, using extensively customized plotting functions.\n",
    "\n",
    "---\n",
    "\n",
    "In this project, I'll **build and test a number of classifiers** whose objective is to distinguish between my library and the Billboard hits dataset, ***using only the track's audio features***. I'll use the best of these classifiers to build a **personalized track recommender**, and generate playlists of novel, recommended tracks.\n",
    "\n",
    "## Tools\n",
    "\n",
    "The project is coded in **[Python](https://www.python.org/)** using **[JupyterLab](https://github.com/jupyterlab/jupyterlab)** notebooks. The **[spotipy](https://github.com/plamere/spotipy)** python package is used to interface with the **[Spotify Web API](https://developer.spotify.com/web-api/)**. The data is stored and transformed using primarily **[pandas](https://pandas.pydata.org/)** and **[NumPy](http://www.numpy.org/)**. All custom plots are designed using **[seaborn](https://seaborn.pydata.org/)** and **[Matplotlib](https://matplotlib.org/)**. **[Scikit-learn](http://scikit-learn.org)**, **[LightGBM](https://github.com/Microsoft/LightGBM)**, and **[eli5](https://github.com/TeamHG-Memex/eli5)** are used for classification and other machine learning tasks. All text is written in **[Markdown](https://daringfireball.net/projects/markdown/)**, with equations written in **[LaTeX](https://www.latex-project.org/)**.\n",
    "\n",
    "## Highlights:\n",
    "- Model classes: **Logistic regression**, **decision tree**, **random forest**, **gradient boosted trees (LightGBM)**.\n",
    "- **Repeated k-fold stratified cross-validation** for hyperparameter optimization and for reporting model generalization performance.\n",
    "- **\"Balanced accuracy\" (macro-average recall) scoring.**\n",
    "- **Permutation feature importances (mean decrease accuracy).**\n",
    "- **Extensively customized plotting functions** for visualizing these cross-validated model scores and permutation feature importances, as well as other scores and model-specific attributes.\n",
    "- **Other custom functions** for scraping a variety of random tracks from Spotify, filtering these tracks using our classifier, and writing the filtered tracks to a new Spotify playlist.\n",
    "\n",
    "*Like my previous Spotify project, this notebook is written mostly in a tutorial format.*\n",
    "\n",
    "---\n",
    "\n",
    "# **[Click here to begin](spotify_5_classifier_and_recommender.ipynb)**\n",
    "\n",
    "---"
   ]
  }
 ],
 "metadata": {
  "kernelspec": {
   "display_name": "Python 3",
   "language": "python",
   "name": "python3"
  },
  "language_info": {
   "codemirror_mode": {
    "name": "ipython",
    "version": 3
   },
   "file_extension": ".py",
   "mimetype": "text/x-python",
   "name": "python",
   "nbconvert_exporter": "python",
   "pygments_lexer": "ipython3",
   "version": "3.6.3"
  }
 },
 "nbformat": 4,
 "nbformat_minor": 2
}
